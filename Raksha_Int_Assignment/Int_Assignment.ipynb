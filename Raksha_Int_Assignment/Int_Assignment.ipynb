{
 "cells": [
  {
   "cell_type": "code",
   "execution_count": 1,
   "id": "0118ef83",
   "metadata": {},
   "outputs": [
    {
     "name": "stdout",
     "output_type": "stream",
     "text": [
      "3\n",
      "<class 'int'>\n"
     ]
    }
   ],
   "source": [
    "#Declare an int value and store it in a variable. \n",
    "\n",
    "a = 3\n",
    "print(a)\n",
    "print(type(a))"
   ]
  },
  {
   "cell_type": "code",
   "execution_count": 3,
   "id": "71548851",
   "metadata": {},
   "outputs": [
    {
     "name": "stdout",
     "output_type": "stream",
     "text": [
      "140718835968560\n",
      "140718835968560\n",
      "2572748710064\n",
      "2572748710544\n"
     ]
    }
   ],
   "source": [
    "#Take one int value between 0 - 256.\n",
    "\n",
    "abc = 25\n",
    "xyz = 25\n",
    "print(id(abc))\n",
    "print(id(xyz))\n",
    "# Python allocates the same memory space for the Variables as they has same value.\n",
    "\n",
    "#Take one int value either less than -5 or greater than 256.\n",
    "abc_1 = -32\n",
    "xyz_1 = -32\n",
    "print(id(abc_1))\n",
    "print(id(xyz_1))"
   ]
  },
  {
   "cell_type": "code",
   "execution_count": 6,
   "id": "6feff8a7",
   "metadata": {},
   "outputs": [
    {
     "name": "stdout",
     "output_type": "stream",
     "text": [
      "24\n",
      "16\n",
      "80\n",
      "5.0\n",
      "0\n",
      "24\n",
      "16\n"
     ]
    }
   ],
   "source": [
    "#Arithmatic Operations on integers\n",
    "\n",
    "num1 = 20\n",
    "num2 = int(4.87)\n",
    "\n",
    "print(num1 + num2)\n",
    "print(num1 - num2)\n",
    "print(num1 * num2)\n",
    "print(num1 / num2)\n",
    "print(num1 % num2)\n",
    "print(int(num1 + num2))\n",
    "print(num1 ^ num2)"
   ]
  },
  {
   "cell_type": "code",
   "execution_count": 9,
   "id": "5803917f",
   "metadata": {},
   "outputs": [
    {
     "name": "stdout",
     "output_type": "stream",
     "text": [
      "True\n",
      "False\n",
      "True\n",
      "False\n"
     ]
    }
   ],
   "source": [
    "#Comparison Operators on integers\n",
    "\n",
    "b = 60\n",
    "c = 35\n",
    "\n",
    "print(b > c)\n",
    "print(b < c)\n",
    "print(b >= c)\n",
    "print(b <= c)"
   ]
  },
  {
   "cell_type": "code",
   "execution_count": 10,
   "id": "464e1947",
   "metadata": {},
   "outputs": [
    {
     "name": "stdout",
     "output_type": "stream",
     "text": [
      "True\n",
      "False\n",
      "False\n",
      "True\n"
     ]
    }
   ],
   "source": [
    "#Equality Operator\n",
    "\n",
    "e = 25\n",
    "f = 25\n",
    "\n",
    "print(e == f)\n",
    "print(e != f)\n",
    "print(b == c)\n",
    "print(b != c)\n"
   ]
  },
  {
   "cell_type": "code",
   "execution_count": 1,
   "id": "e4c05d89",
   "metadata": {},
   "outputs": [
    {
     "name": "stdout",
     "output_type": "stream",
     "text": [
      "0\n",
      "30\n",
      "30\n",
      "-11\n",
      "40\n",
      "2\n"
     ]
    }
   ],
   "source": [
    "#Bitwise Operators\n",
    "\n",
    "print(10 & 20)\n",
    "print(10 | 20)\n",
    "print(10 ^ 20)\n",
    "print(~10)\n",
    "print(10 << 2)\n",
    "print(10 >> 2)"
   ]
  },
  {
   "cell_type": "code",
   "execution_count": 20,
   "id": "440beab1",
   "metadata": {},
   "outputs": [
    {
     "name": "stdout",
     "output_type": "stream",
     "text": [
      "True\n",
      "False\n",
      "False\n",
      "True\n"
     ]
    }
   ],
   "source": [
    "a = 10\n",
    "b = 10\n",
    "print(a is b)          \n",
    "print(a is not b)      \n",
    "\n",
    "a = 1000\n",
    "b = 1000\n",
    "print(a is b)          \n",
    "print(a is not b)"
   ]
  },
  {
   "cell_type": "code",
   "execution_count": 21,
   "id": "be09c7b8",
   "metadata": {},
   "outputs": [
    {
     "name": "stdout",
     "output_type": "stream",
     "text": [
      "20\n"
     ]
    }
   ],
   "source": [
    "print(10+(10*32)//2**5&20+(~(-10))<<2)"
   ]
  },
  {
   "cell_type": "code",
   "execution_count": 22,
   "id": "faadad19",
   "metadata": {},
   "outputs": [
    {
     "name": "stdout",
     "output_type": "stream",
     "text": [
      "True\n",
      "True\n",
      "True\n",
      "True\n",
      "True\n",
      "True\n"
     ]
    }
   ],
   "source": [
    "#Membership operation\n",
    "\n",
    "\n",
    "print('2' in 'Python2.7.8')\n",
    "print(10 in [10,10.20,10+20j,'Python'])\n",
    "print(10 in (10,10.20,10+20j,'Python'))\n",
    "print(2 in {1,2,3})\n",
    "print(3 in {1:100, 2:200, 3:300})\n",
    "print(10 in range(20))"
   ]
  },
  {
   "cell_type": "code",
   "execution_count": 24,
   "id": "ea39471d",
   "metadata": {},
   "outputs": [
    {
     "name": "stdout",
     "output_type": "stream",
     "text": [
      "282\n",
      "34946\n",
      "61837\n"
     ]
    }
   ],
   "source": [
    "binary = 0b100011010\n",
    "octal = 0o104202\n",
    "hexa = 0xf18d\n",
    "\n",
    "print(binary)\n",
    "print(octal)\n",
    "print(hexa)"
   ]
  },
  {
   "cell_type": "code",
   "execution_count": 25,
   "id": "82a9a382",
   "metadata": {},
   "outputs": [
    {
     "name": "stdout",
     "output_type": "stream",
     "text": [
      "80\n",
      "3870\n",
      "64222\n",
      "0b1010000\n",
      "0o7436\n",
      "0xfade\n",
      "0b1010000\n",
      "0b1111101011011110\n",
      "0o175336\n",
      "0o7436\n",
      "0x50\n",
      "0xfade\n"
     ]
    }
   ],
   "source": [
    "a = 0b1010000\n",
    "print(a)\n",
    "\n",
    "b = 0o7436\n",
    "print(b)\n",
    "\n",
    "c = 0xfade\n",
    "print(c)\n",
    "\n",
    "print(bin(80))\n",
    "\n",
    "print(oct(3870))\n",
    "\n",
    "print(hex(64222))\n",
    "\n",
    "print(bin(0b1010000))\n",
    "\n",
    "print(bin(0xfade))\n",
    "\n",
    "print(oct(0xfade))\n",
    "\n",
    "print(oct(0o7436))\n",
    "\n",
    "print(hex(0b1010000))\n",
    "\n",
    "print(hex(0xfade))"
   ]
  },
  {
   "cell_type": "code",
   "execution_count": null,
   "id": "06119e8e",
   "metadata": {},
   "outputs": [],
   "source": []
  }
 ],
 "metadata": {
  "kernelspec": {
   "display_name": "Python 3",
   "language": "python",
   "name": "python3"
  },
  "language_info": {
   "codemirror_mode": {
    "name": "ipython",
    "version": 3
   },
   "file_extension": ".py",
   "mimetype": "text/x-python",
   "name": "python",
   "nbconvert_exporter": "python",
   "pygments_lexer": "ipython3",
   "version": "3.8.8"
  }
 },
 "nbformat": 4,
 "nbformat_minor": 5
}
