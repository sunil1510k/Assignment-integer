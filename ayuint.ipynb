{
 "cells": [
  {
   "cell_type": "code",
   "execution_count": 1,
   "id": "f7172cce",
   "metadata": {},
   "outputs": [
    {
     "name": "stdout",
     "output_type": "stream",
     "text": [
      "140709805500400\n",
      "<class 'int'>\n"
     ]
    }
   ],
   "source": [
    "a =7 #declaring int & storing in a variable\n",
    "\n",
    "print(id(a))\n",
    "print(type(a))"
   ]
  },
  {
   "cell_type": "code",
   "execution_count": null,
   "id": "39ebfcb9",
   "metadata": {},
   "outputs": [],
   "source": []
  },
  {
   "cell_type": "code",
   "execution_count": 2,
   "id": "12b85b9d",
   "metadata": {},
   "outputs": [
    {
     "name": "stdout",
     "output_type": "stream",
     "text": [
      "140709805500400\n",
      "140709805500400\n"
     ]
    }
   ],
   "source": [
    "a=7\n",
    "b=7\n",
    "print(id(a)) #object space already stored in python, so,ans is same\n",
    "print(id(b))"
   ]
  },
  {
   "cell_type": "code",
   "execution_count": 3,
   "id": "c9c86a4b",
   "metadata": {},
   "outputs": [
    {
     "name": "stdout",
     "output_type": "stream",
     "text": [
      "1447804251760\n",
      "1447804251408\n"
     ]
    }
   ],
   "source": [
    "c=300\n",
    "d=300\n",
    "print(id(c)) # more than 256, so, different \n",
    "\n",
    "print(id(d))"
   ]
  },
  {
   "cell_type": "code",
   "execution_count": null,
   "id": "5c47eb3d",
   "metadata": {},
   "outputs": [],
   "source": []
  },
  {
   "cell_type": "code",
   "execution_count": 6,
   "id": "44b50e07",
   "metadata": {},
   "outputs": [],
   "source": [
    "#arithmetic op"
   ]
  },
  {
   "cell_type": "code",
   "execution_count": 20,
   "id": "84331799",
   "metadata": {},
   "outputs": [
    {
     "name": "stdout",
     "output_type": "stream",
     "text": [
      "10\n",
      "4\n",
      "21\n",
      "2\n",
      "1\n",
      "2.3333333333333335\n",
      "2187\n"
     ]
    }
   ],
   "source": [
    "a=7\n",
    "b=3\n",
    "print(a+b) #sum\n",
    "print(a-b) #difference\n",
    "print(a*b) #product\n",
    "print(a//b) #value\n",
    "print(a%b) #remainder\n",
    "print(a/b) #quotient\n",
    "print(b**a) #1st num to the power of 2nd num\n"
   ]
  },
  {
   "cell_type": "code",
   "execution_count": 5,
   "id": "01261cac",
   "metadata": {},
   "outputs": [],
   "source": [
    "#comparison op"
   ]
  },
  {
   "cell_type": "code",
   "execution_count": 21,
   "id": "44472644",
   "metadata": {},
   "outputs": [
    {
     "name": "stdout",
     "output_type": "stream",
     "text": [
      "True\n",
      "False\n",
      "True\n",
      "False\n"
     ]
    }
   ],
   "source": [
    "a=7\n",
    "b=6\n",
    "print((a>b)) #greater than\n",
    "print((a<b)) #less than\n",
    "print((a>=b)) #greater than equal to\n",
    "print((a<=b)) #less than equal to\n"
   ]
  },
  {
   "cell_type": "code",
   "execution_count": 7,
   "id": "d8baf2d3",
   "metadata": {},
   "outputs": [],
   "source": [
    "#equality operator"
   ]
  },
  {
   "cell_type": "code",
   "execution_count": 8,
   "id": "d2edd420",
   "metadata": {},
   "outputs": [
    {
     "name": "stdout",
     "output_type": "stream",
     "text": [
      "False\n",
      "True\n"
     ]
    }
   ],
   "source": [
    "a=2\n",
    "b=3\n",
    "print((a==b)) # print true if equal else false\n",
    "print((a!=b)) #print true if not equal else false"
   ]
  },
  {
   "cell_type": "code",
   "execution_count": 9,
   "id": "5f9d1998",
   "metadata": {},
   "outputs": [],
   "source": [
    "#logical operator"
   ]
  },
  {
   "cell_type": "code",
   "execution_count": 10,
   "id": "bb46b499",
   "metadata": {
    "scrolled": true
   },
   "outputs": [
    {
     "name": "stdout",
     "output_type": "stream",
     "text": [
      "20\n",
      "0\n",
      "0\n",
      "0\n",
      "10\n",
      "20\n",
      "20\n",
      "0\n",
      "False\n",
      "True\n"
     ]
    }
   ],
   "source": [
    "print(10 and 20)  #both are true,so second value taken \n",
    "print(0 and 20)   #First is false so first value taken\n",
    "print(20 and 0)   #Goes till second and second value is false so second is taken\n",
    "print(0 and 0)  #First is false so,it is taken\n",
    "\n",
    "\n",
    "\n",
    "print(10 or 20)  #First is True so it is taken\n",
    "print(0 or 20)   #Goes to till second and second is true,so it is taken\n",
    "print(20 or 0) #First is True so it is taken\n",
    "print(0 or 0)  #Goes till second value,which is false,so it is taken\n",
    "\n",
    "\n",
    "\n",
    "\n",
    "print(not(10)) #Not of true is false\n",
    "print(not(0))  #Not of false is True"
   ]
  },
  {
   "cell_type": "code",
   "execution_count": 11,
   "id": "e54ef849",
   "metadata": {},
   "outputs": [],
   "source": [
    "# bitwise operator"
   ]
  },
  {
   "cell_type": "code",
   "execution_count": 12,
   "id": "abd09479",
   "metadata": {},
   "outputs": [
    {
     "name": "stdout",
     "output_type": "stream",
     "text": [
      "0\n",
      "30\n",
      "30\n",
      "-11\n",
      "40\n",
      "2\n"
     ]
    }
   ],
   "source": [
    "print(10 & 20)\n",
    "print(10|20)\n",
    "print(10^20)\n",
    "print(~10)\n",
    "print(10<<2) #leftshift\n",
    "print(10>>2) #rightshift"
   ]
  },
  {
   "cell_type": "code",
   "execution_count": null,
   "id": "1a4fa9ee",
   "metadata": {},
   "outputs": [],
   "source": []
  },
  {
   "cell_type": "code",
   "execution_count": null,
   "id": "4f4e32f7",
   "metadata": {},
   "outputs": [],
   "source": []
  },
  {
   "cell_type": "code",
   "execution_count": 13,
   "id": "7f0ddc6e",
   "metadata": {},
   "outputs": [
    {
     "name": "stdout",
     "output_type": "stream",
     "text": [
      "True\n",
      "False\n",
      "False\n",
      "True\n"
     ]
    }
   ],
   "source": [
    "a = 10\n",
    "b = 10\n",
    "print(a is b)          #True \n",
    "print(a is not b)      #False\n",
    "\n",
    "a = 1000\n",
    "b = 1000\n",
    "print(a is b)          #gives False\n",
    "print(a is not b)      #gives True"
   ]
  },
  {
   "cell_type": "code",
   "execution_count": null,
   "id": "4da90462",
   "metadata": {},
   "outputs": [],
   "source": []
  },
  {
   "cell_type": "code",
   "execution_count": 14,
   "id": "b0adc92d",
   "metadata": {},
   "outputs": [
    {
     "name": "stdout",
     "output_type": "stream",
     "text": [
      "20\n"
     ]
    }
   ],
   "source": [
    "print(10+(10*32)//2**5&20+(~(-10))<<2)\n"
   ]
  },
  {
   "cell_type": "code",
   "execution_count": null,
   "id": "a298198d",
   "metadata": {},
   "outputs": [],
   "source": []
  },
  {
   "cell_type": "code",
   "execution_count": 15,
   "id": "4b50e254",
   "metadata": {},
   "outputs": [],
   "source": [
    "#membership operation"
   ]
  },
  {
   "cell_type": "code",
   "execution_count": 16,
   "id": "b1afa18a",
   "metadata": {},
   "outputs": [
    {
     "name": "stdout",
     "output_type": "stream",
     "text": [
      "True\n",
      "True\n",
      "True\n",
      "True\n",
      "True\n",
      "True\n"
     ]
    }
   ],
   "source": [
    "print('2' in 'Python2.7.8')\n",
    "print(10 in [10,10.20,10+20j,'Python'])\n",
    "print(10 in (10,10.20,10+20j,'Python'))\n",
    "print(2 in {1,2,3})\n",
    "print(3 in {1:100, 2:200, 3:300})\n",
    "print(10 in range(20))"
   ]
  },
  {
   "cell_type": "code",
   "execution_count": null,
   "id": "76c34d52",
   "metadata": {},
   "outputs": [],
   "source": []
  },
  {
   "cell_type": "code",
   "execution_count": 18,
   "id": "c89eeb2e",
   "metadata": {},
   "outputs": [
    {
     "name": "stdout",
     "output_type": "stream",
     "text": [
      "0b10011010010100\n",
      "0o23224\n",
      "0x2694\n"
     ]
    }
   ],
   "source": [
    "b =0b1 #binary \n",
    "oc =0o234 #octal\n",
    "h =0x11e #hexadecimal\n",
    "\n",
    "\n",
    "\n",
    "print(bin(9876))  #conversion to binary\n",
    "print(oct(9876))  #conversion to octal\n",
    "print(hex(9876))  #conversion to hexadecimal\n",
    "\n",
    "\n",
    "\n",
    "\n",
    "\n"
   ]
  },
  {
   "cell_type": "code",
   "execution_count": null,
   "id": "45e83380",
   "metadata": {},
   "outputs": [],
   "source": []
  },
  {
   "cell_type": "code",
   "execution_count": 19,
   "id": "cb0e673c",
   "metadata": {},
   "outputs": [
    {
     "name": "stdout",
     "output_type": "stream",
     "text": [
      "80\n",
      "3870\n",
      "64222\n",
      "0b1010000\n",
      "0o7436\n",
      "0xfade\n",
      "0b1010000\n",
      "0b1111101011011110\n",
      "0o175336\n",
      "0o7436\n",
      "0x50\n",
      "0xfade\n"
     ]
    }
   ],
   "source": [
    "a = 0b1010000\n",
    "print(a)  #print decimal value printed of binary input\n",
    "\n",
    "b = 0o7436\n",
    "print(b)  #print decimal value printed of octal input\n",
    "\n",
    "c = 0xfade\n",
    "print(c)   #decimal value printed of hexadecimal input\n",
    "\n",
    "print(bin(80))  #convert to binary(from decimal) & print\n",
    "\n",
    "print(oct(3870))  #convert to octal & print\n",
    "\n",
    "print(hex(64222))   #convert to hexadecimal & print\n",
    "\n",
    "print(bin(0b1010000)) #binary converted to binary & is printed as it is\n",
    "\n",
    "print(bin(0xfade))  #convert to binary (from hexadecimal) & print\n",
    "\n",
    "print(oct(0xfade))   #convert to octal & print\n",
    "\n",
    "print(oct(0o7436))   #convert to octal & print\n",
    "\n",
    "print(hex(0b1010000)) #convert to hexadecimal & print\n",
    "\n",
    "print(hex(0xfade)) #convert to hexadecimal & print"
   ]
  }
 ],
 "metadata": {
  "kernelspec": {
   "display_name": "Python 3",
   "language": "python",
   "name": "python3"
  },
  "language_info": {
   "codemirror_mode": {
    "name": "ipython",
    "version": 3
   },
   "file_extension": ".py",
   "mimetype": "text/x-python",
   "name": "python",
   "nbconvert_exporter": "python",
   "pygments_lexer": "ipython3",
   "version": "3.8.8"
  }
 },
 "nbformat": 4,
 "nbformat_minor": 5
}
