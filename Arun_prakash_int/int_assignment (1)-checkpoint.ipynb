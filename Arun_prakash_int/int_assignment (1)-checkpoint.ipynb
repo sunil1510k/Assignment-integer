{
 "cells": [
  {
   "cell_type": "code",
   "execution_count": 6,
   "metadata": {
    "id": "8A5Jw5NR1iEI"
   },
   "outputs": [
    {
     "name": "stdout",
     "output_type": "stream",
     "text": [
      "<class 'int'>\n",
      "1752724800\n"
     ]
    }
   ],
   "source": [
    "#Declare an int value and store it in a variable. \n",
    "\n",
    "a = 10\n",
    "\n",
    "#Check the type and print the id of the same.\n",
    "\n",
    "print(type(a))\n",
    "print(id(a))"
   ]
  },
  {
   "cell_type": "code",
   "execution_count": null,
   "metadata": {
    "id": "0YU8LFTn1rAX"
   },
   "outputs": [],
   "source": [
    "#Take one int value between 0 - 256.\n",
    "#Assign it to two different variables.\n",
    "#Check the id of both the variables. It should come same. Check why?\n",
    "\n",
    "\n",
    "\n",
    "\n",
    "#Take one int value either less than -5 or greater than 256.\n",
    "#Assign it to two different variables.\n",
    "#Check the id of both the variables. It should come different.Check why?\n",
    "\n",
    "\n"
   ]
  },
  {
   "cell_type": "code",
   "execution_count": null,
   "metadata": {
    "id": "YzEIG0ZZ1tSK"
   },
   "outputs": [],
   "source": [
    "#Arithmatic Operations on integers\n",
    "#Take two different intger values.\n",
    "#Store them in two different variables.\n",
    "#Do below operations on them:-\n",
    "    #Find sum of both numbers\n",
    "    #Find differce between them\n",
    "    #Find the product of both numbers.\n",
    "    #Find value after dividing first num with second number\n",
    "    #Find the remainder after dividing first number with second number\n",
    "    #Find the quotient after dividing first number with second number\n",
    "    #Find the result of first num to the power of second number."
   ]
  },
  {
   "cell_type": "code",
   "execution_count": null,
   "metadata": {
    "id": "GGM7CdzA1wGn"
   },
   "outputs": [],
   "source": [
    "#Comparison Operators on integers\n",
    "#Take two different intger values.\n",
    "#Store them in two different variables.\n",
    "#Do below operations on them:-\n",
    "    #Compare se two numbers with below operator:-\n",
    "        #Greater than, '>'\n",
    "        #Smaller than, '<'\n",
    "        #Greater than or equal to, '>='\n",
    "        #Less than or equal to, '<='\n",
    "#Observe their output(return type should be boolean)"
   ]
  },
  {
   "cell_type": "code",
   "execution_count": null,
   "metadata": {
    "id": "9x904sUE1y9t"
   },
   "outputs": [],
   "source": [
    "#Equality Operator\n",
    "#Take two different intger values.\n",
    "#Store them in two different variables.\n",
    "#Equuate them using equality operator (==, !=)\n",
    "#Observe the output(return type should be boolean)"
   ]
  },
  {
   "cell_type": "code",
   "execution_count": null,
   "metadata": {
    "id": "v9-sAvlZZdoi"
   },
   "outputs": [],
   "source": []
  },
  {
   "cell_type": "code",
   "execution_count": null,
   "metadata": {
    "id": "JmQFHUwc11S-"
   },
   "outputs": [],
   "source": [
    "#Logical operators\n",
    "#Observe the output of below code\n",
    "#Cross check the output manually\n",
    "\n",
    "print(10 and 20)       #----------------------------------------->Output is 20\n",
    "print(0 and 20)        #----------------------------------------->Output is 0\n",
    "print(20 and 0)        #----------------------------------------->Output is 0\n",
    "print(0 and 0)         #----------------------------------------->Output is 0\n",
    "\n",
    "print(10 or 20)        #----------------------------------------->Output is 10\n",
    "print(0 or 20)         #----------------------------------------->Output is 20\n",
    "print(20 or 0)         #----------------------------------------->Output is 20\n",
    "print(0 or 0)          #----------------------------------------->Output is 0\n",
    "\n",
    "print(not 10)          #----------------------------------------->Output is False\n",
    "print(not 0)           #----------------------------------------->Output is True"
   ]
  },
  {
   "cell_type": "code",
   "execution_count": null,
   "metadata": {
    "id": "-0tvoulX14Hi"
   },
   "outputs": [],
   "source": [
    "#Bitwise Operators\n",
    "#Do below operations on the values provided below:-\n",
    "    #Bitwise and(&) -----------------------------------------> 10, 20   -------> Output is 0\n",
    "    #Bitwise or(|)  -----------------------------------------> 10, 20   -------> Output is 30\n",
    "    #Bitwise(^)     -----------------------------------------> 10, 20   -------> Output is 30\n",
    "    #Bitwise negation(~) ------------------------------------> 10       -------> Output is -11\n",
    "    #Bitwise left shift  ------------------------------------> 10,2     -------> Output is 40\n",
    "    #Bitwise right shift ------------------------------------> 10,2     -------> Output is 2\n",
    "#Cross check the output manually"
   ]
  },
  {
   "cell_type": "code",
   "execution_count": null,
   "metadata": {
    "id": "YCcx-Qx016hg"
   },
   "outputs": [],
   "source": [
    "#What is the output of expression inside print statement. Cross check before running the program.\n",
    "a = 10\n",
    "b = 10\n",
    "print(a is b)          #True or False?\n",
    "print(a is not b)      #True or False?\n",
    "\n",
    "a = 1000\n",
    "b = 1000\n",
    "print(a is b)          #True or False?\n",
    "print(a is not b)      #True or False?"
   ]
  },
  {
   "cell_type": "code",
   "execution_count": null,
   "metadata": {
    "id": "Un2To3XN1_Il"
   },
   "outputs": [],
   "source": [
    "#What is the output of expression inside print statement. Cross check before running the program.\n",
    "print(10+(10*32)//2**5&20+(~(-10))<<2)"
   ]
  },
  {
   "cell_type": "code",
   "execution_count": null,
   "metadata": {
    "id": "kGRb5RMd1_1I"
   },
   "outputs": [],
   "source": [
    "#Membership operation\n",
    "#in, not in are two membership operators and it returns boolean value\n",
    "\n",
    "print('2' in 'Python2.7.8')\n",
    "print(10 in [10,10.20,10+20j,'Python'])\n",
    "print(10 in (10,10.20,10+20j,'Python'))\n",
    "print(2 in {1,2,3})\n",
    "print(3 in {1:100, 2:200, 3:300})\n",
    "print(10 in range(20))"
   ]
  },
  {
   "cell_type": "code",
   "execution_count": null,
   "metadata": {
    "id": "Es7iSvL92B9W"
   },
   "outputs": [],
   "source": [
    "#An integer can be represented in binary, octal or hexadecimal form.\n",
    "#Declare one binary, one octal and one hexadecimal value and store them in three different variables.\n",
    "#Convert 9876 to its binary, octal and hexadecimal equivalent and print their corresponding value."
   ]
  },
  {
   "cell_type": "code",
   "execution_count": null,
   "metadata": {
    "id": "Hm0r03lH2E0i"
   },
   "outputs": [],
   "source": [
    "#What will be the outut of following:-\n",
    "a = 0b1010000\n",
    "print(a)\n",
    "\n",
    "b = 0o7436\n",
    "print(b)\n",
    "\n",
    "c = 0xfade\n",
    "print(c)\n",
    "\n",
    "print(bin(80))\n",
    "\n",
    "print(oct(3870))\n",
    "\n",
    "print(hex(64222))\n",
    "\n",
    "print(bin(0b1010000))\n",
    "\n",
    "print(bin(0xfade))\n",
    "\n",
    "print(oct(0xfade))\n",
    "\n",
    "print(oct(0o7436))\n",
    "\n",
    "print(hex(0b1010000))\n",
    "\n",
    "print(hex(0xfade))"
   ]
  }
 ],
 "metadata": {
  "colab": {
   "name": "int_assignment.ipynb",
   "provenance": []
  },
  "kernelspec": {
   "display_name": "Python 3",
   "language": "python",
   "name": "python3"
  },
  "language_info": {
   "codemirror_mode": {
    "name": "ipython",
    "version": 3
   },
   "file_extension": ".py",
   "mimetype": "text/x-python",
   "name": "python",
   "nbconvert_exporter": "python",
   "pygments_lexer": "ipython3",
   "version": "3.8.5"
  }
 },
 "nbformat": 4,
 "nbformat_minor": 1
}
