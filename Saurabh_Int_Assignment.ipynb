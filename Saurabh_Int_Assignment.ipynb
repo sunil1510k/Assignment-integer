{
 "cells": [
  {
   "cell_type": "code",
   "execution_count": 27,
   "metadata": {
    "id": "8A5Jw5NR1iEI"
   },
   "outputs": [
    {
     "name": "stdout",
     "output_type": "stream",
     "text": [
      "<class 'int'>\n",
      "1751868720\n"
     ]
    }
   ],
   "source": [
    "#Declare an int value and store it in a variable. \n",
    "\n",
    "stored_value = 10\n",
    "\n",
    "#Check the type and print the id of the same.\n",
    "\n",
    "\n",
    "print(type(stored_value))\n",
    "print(id(stored_value))\n"
   ]
  },
  {
   "cell_type": "code",
   "execution_count": 25,
   "metadata": {
    "id": "0YU8LFTn1rAX"
   },
   "outputs": [
    {
     "name": "stdout",
     "output_type": "stream",
     "text": [
      "1751868640\n",
      "1751868640\n",
      "53075024\n",
      "53074832\n"
     ]
    }
   ],
   "source": [
    "#Take one int value between 0 - 256.\n",
    "#Assign it to two different variables.\n",
    "#Check the id of both the variables. It should come same. Check why?\n",
    "\n",
    "f_integer = 5\n",
    "s_integer = 5\n",
    "print(id(f_integer))\n",
    "print(id(s_integer))\n",
    "\n",
    "\n",
    "#Take one int value either less than -5 or greater than 256.\n",
    "#Assign it to two different variables.\n",
    "#Check the id of both the variables. It should come different.Check why?\n",
    "\n",
    "first_int = -8\n",
    "second_int = -8\n",
    "print(id(first_int))\n",
    "print(id(second_int))\n"
   ]
  },
  {
   "cell_type": "code",
   "execution_count": 1,
   "metadata": {
    "id": "YzEIG0ZZ1tSK"
   },
   "outputs": [
    {
     "name": "stdout",
     "output_type": "stream",
     "text": [
      "30\n",
      "-10\n",
      "200\n",
      "0.5\n",
      "10\n",
      "0\n",
      "100000000000000000000\n"
     ]
    }
   ],
   "source": [
    "#Arithmatic Operations on integers\n",
    "#Take two different intger values.\n",
    "#Store them in two different variables.\n",
    "\n",
    "value1 = 10\n",
    "value2 = 20\n",
    "#Do below operations on them:-\n",
    "   \n",
    "    #Find sum of both numbers\n",
    "\n",
    "print(value1+value2)\n",
    "    \n",
    "    #Find differce between them\n",
    "\n",
    "print(value1-value2)\n",
    "    \n",
    "    #Find the product of both numbers.\n",
    "\n",
    "print(value1*value2)\n",
    "    \n",
    "    #Find value after dividing first num with second number\n",
    "\n",
    "print(value1/value2)\n",
    "\n",
    "    #Find the remainder after dividing first number with second number\n",
    "    \n",
    "print(value1 % value2)\n",
    "\n",
    "    #Find the quotient after dividing first number with second number\n",
    "    \n",
    "print(value1 // value2)\n",
    "\n",
    "    #Find the result of first num to the power of second number.\n",
    "    \n",
    "print(value1 ** value2)"
   ]
  },
  {
   "cell_type": "code",
   "execution_count": 41,
   "metadata": {
    "id": "GGM7CdzA1wGn"
   },
   "outputs": [
    {
     "name": "stdout",
     "output_type": "stream",
     "text": [
      "False\n",
      "True\n",
      "False\n",
      "True\n"
     ]
    }
   ],
   "source": [
    "#Comparison Operators on integers\n",
    "#Take two different intger values.\n",
    "#Store them in two different variables.\n",
    "\n",
    "variable1 = 10\n",
    "variable2 = 20\n",
    "\n",
    "#Do below operations on them:-\n",
    "    #Compare se two numbers with below operator:-\n",
    "        #Greater than, '>'\n",
    "\n",
    "print(variable1 > variable2)\n",
    "\n",
    "        #Smaller than, '<'\n",
    "    \n",
    "print(variable1 < variable2)\n",
    "        \n",
    "        #Greater than or equal to, '>='\n",
    "    \n",
    "print(variable1 >= variable2)\n",
    "        \n",
    "        #Less than or equal to, '<='\n",
    "\n",
    "print(variable1 <= variable2)\n",
    "       \n",
    "    #Observe their output(return type should be boolean)"
   ]
  },
  {
   "cell_type": "code",
   "execution_count": 43,
   "metadata": {
    "id": "9x904sUE1y9t"
   },
   "outputs": [
    {
     "name": "stdout",
     "output_type": "stream",
     "text": [
      "False\n",
      "True\n"
     ]
    }
   ],
   "source": [
    "#Equality Operator\n",
    "#Take two different intger values.\n",
    "#Store them in two different variables.\n",
    "\n",
    "var1 = 10\n",
    "var2 = 20\n",
    "\n",
    "#Equuate them using equality operator (==, !=)\n",
    "\n",
    "print(var1 == var2)\n",
    "print(var1 != var2)\n",
    "\n",
    "#Observe the output(return type should be boolean)"
   ]
  },
  {
   "cell_type": "code",
   "execution_count": null,
   "metadata": {
    "id": "v9-sAvlZZdoi"
   },
   "outputs": [],
   "source": []
  },
  {
   "cell_type": "code",
   "execution_count": 44,
   "metadata": {
    "id": "JmQFHUwc11S-"
   },
   "outputs": [
    {
     "name": "stdout",
     "output_type": "stream",
     "text": [
      "20\n",
      "0\n",
      "0\n",
      "0\n",
      "10\n",
      "20\n",
      "20\n",
      "0\n",
      "False\n",
      "True\n"
     ]
    }
   ],
   "source": [
    "#Logical operators\n",
    "#Observe the output of below code\n",
    "#Cross check the output manually\n",
    "\n",
    "print(10 and 20)       #----------------------------------------->Output is 20\n",
    "print(0 and 20)        #----------------------------------------->Output is 0\n",
    "print(20 and 0)        #----------------------------------------->Output is 0\n",
    "print(0 and 0)         #----------------------------------------->Output is 0\n",
    "\n",
    "print(10 or 20)        #----------------------------------------->Output is 10\n",
    "print(0 or 20)         #----------------------------------------->Output is 20\n",
    "print(20 or 0)         #----------------------------------------->Output is 20\n",
    "print(0 or 0)          #----------------------------------------->Output is 0\n",
    "\n",
    "print(not 10)          #----------------------------------------->Output is False\n",
    "print(not 0)           #----------------------------------------->Output is True"
   ]
  },
  {
   "cell_type": "code",
   "execution_count": 52,
   "metadata": {
    "id": "-0tvoulX14Hi"
   },
   "outputs": [
    {
     "name": "stdout",
     "output_type": "stream",
     "text": [
      "0\n",
      "30\n",
      "30\n",
      "-11\n",
      "40\n",
      "2\n"
     ]
    }
   ],
   "source": [
    "#Bitwise Operators\n",
    "#Do below operations on the values provided below:-\n",
    "    #Bitwise and(&) -----------------------------------------> 10, 20   -------> Output is 0\n",
    "    \n",
    "print(10 & 20) \n",
    "\n",
    "    #Bitwise or(|)  -----------------------------------------> 10, 20   -------> Output is 30\n",
    "\n",
    "print(10 | 20 )\n",
    "\n",
    "    #Bitwise(^)     -----------------------------------------> 10, 20   -------> Output is 30\n",
    "\n",
    "print(10 ^ 20)\n",
    "\n",
    "    #Bitwise negation(~) ------------------------------------> 10       -------> Output is -11\n",
    "    \n",
    "print(~10)\n",
    "    \n",
    "    #Bitwise left shift  ------------------------------------> 10,2     -------> Output is 40\n",
    "    \n",
    "print(10 << 2)\n",
    "    #Bitwise right shift ------------------------------------> 10,2     -------> Output is 2\n",
    "    \n",
    "print(10 >> 2)\n",
    "#Cross check the output manually"
   ]
  },
  {
   "cell_type": "code",
   "execution_count": 53,
   "metadata": {
    "id": "YCcx-Qx016hg"
   },
   "outputs": [
    {
     "name": "stdout",
     "output_type": "stream",
     "text": [
      "True\n",
      "False\n",
      "False\n",
      "True\n"
     ]
    }
   ],
   "source": [
    "#What is the output of expression inside print statement. Cross check before running the program.\n",
    "a = 10\n",
    "b = 10\n",
    "print(a is b)          #True or False?\n",
    "print(a is not b)      #True or False?\n",
    "\n",
    "a = 1000\n",
    "b = 1000\n",
    "print(a is b)          #True or False?\n",
    "print(a is not b)      #True or False?"
   ]
  },
  {
   "cell_type": "code",
   "execution_count": 54,
   "metadata": {
    "id": "Un2To3XN1_Il"
   },
   "outputs": [
    {
     "name": "stdout",
     "output_type": "stream",
     "text": [
      "20\n"
     ]
    }
   ],
   "source": [
    "#What is the output of expression inside print statement. Cross check before running the program.\n",
    "print(10+(10*32)//2**5&20+(~(-10))<<2)"
   ]
  },
  {
   "cell_type": "code",
   "execution_count": 55,
   "metadata": {
    "id": "kGRb5RMd1_1I"
   },
   "outputs": [
    {
     "name": "stdout",
     "output_type": "stream",
     "text": [
      "True\n",
      "True\n",
      "True\n",
      "True\n",
      "True\n",
      "True\n"
     ]
    }
   ],
   "source": [
    "#Membership operation\n",
    "#in, not in are two membership operators and it returns boolean value\n",
    "\n",
    "print('2' in 'Python2.7.8')\n",
    "print(10 in [10,10.20,10+20j,'Python'])\n",
    "print(10 in (10,10.20,10+20j,'Python'))\n",
    "print(2 in {1,2,3})\n",
    "print(3 in {1:100, 2:200, 3:300})\n",
    "print(10 in range(20))"
   ]
  },
  {
   "cell_type": "code",
   "execution_count": 2,
   "metadata": {
    "id": "Es7iSvL92B9W"
   },
   "outputs": [
    {
     "name": "stdout",
     "output_type": "stream",
     "text": [
      "25\n",
      "25\n",
      "25\n",
      "0o23224\n",
      "0x2694\n",
      "0b10011010010100\n"
     ]
    }
   ],
   "source": [
    "#An integer can be represented in binary, octal or hexadecimal form.\n",
    "#Declare one binary, one octal and one hexadecimal value and store them in three different variables.\n",
    "\n",
    "b = 0b11001\n",
    "octal = 0o31\n",
    "hexa = 0x19\n",
    "print(b)\n",
    "print(octal)\n",
    "print(hexa)\n",
    "\n",
    "#Convert 9876 to its binary, octal and hexadecimal equivalent and print their corresponding valuebin(9876))\n",
    "\n",
    "print(oct(9876))\n",
    "print(hex(9876))\n",
    "print(bin(9876)) "
   ]
  },
  {
   "cell_type": "code",
   "execution_count": 3,
   "metadata": {
    "id": "Hm0r03lH2E0i"
   },
   "outputs": [
    {
     "name": "stdout",
     "output_type": "stream",
     "text": [
      "80\n",
      "3870\n",
      "64222\n",
      "0b1010000\n",
      "0o7436\n",
      "0xfade\n",
      "0b1010000\n",
      "0b1111101011011110\n",
      "0o175336\n",
      "0o7436\n",
      "0x50\n",
      "0xfade\n"
     ]
    }
   ],
   "source": [
    "#What will be the outut of following:-\n",
    "a = 0b1010000\n",
    "print(a)\n",
    "\n",
    "b = 0o7436\n",
    "print(b)\n",
    "\n",
    "c = 0xfade\n",
    "print(c)\n",
    "\n",
    "print(bin(80))\n",
    "\n",
    "print(oct(3870))\n",
    "\n",
    "print(hex(64222))\n",
    "\n",
    "print(bin(0b1010000))\n",
    "\n",
    "print(bin(0xfade))\n",
    "\n",
    "print(oct(0xfade))\n",
    "\n",
    "print(oct(0o7436))\n",
    "\n",
    "print(hex(0b1010000))\n",
    "\n",
    "print(hex(0xfade))"
   ]
  }
 ],
 "metadata": {
  "colab": {
   "name": "int_assignment.ipynb",
   "provenance": []
  },
  "kernelspec": {
   "display_name": "Python 3",
   "language": "python",
   "name": "python3"
  },
  "language_info": {
   "codemirror_mode": {
    "name": "ipython",
    "version": 3
   },
   "file_extension": ".py",
   "mimetype": "text/x-python",
   "name": "python",
   "nbconvert_exporter": "python",
   "pygments_lexer": "ipython3",
   "version": "3.8.8"
  }
 },
 "nbformat": 4,
 "nbformat_minor": 1
}
